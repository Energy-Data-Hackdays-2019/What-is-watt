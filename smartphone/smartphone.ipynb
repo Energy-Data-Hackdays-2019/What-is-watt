{
 "cells": [
  {
   "cell_type": "markdown",
   "metadata": {},
   "source": [
    "# Mobile phone\n",
    "## Openmoko Neo Freerunner (revision A6) mobile phone"
   ]
  },
  {
   "cell_type": "code",
   "execution_count": 1,
   "metadata": {},
   "outputs": [],
   "source": [
    "import pandas as pd\n",
    "import argparse"
   ]
  },
  {
   "cell_type": "code",
   "execution_count": 2,
   "metadata": {},
   "outputs": [],
   "source": [
    "device = {}\n",
    "device['name'] = \"Openmoko Neo Freerunner (revision A6) mobile phone\"\n",
    "device['scenarios'] = []"
   ]
  },
  {
   "cell_type": "markdown",
   "metadata": {},
   "source": [
    "## Sending SMS"
   ]
  },
  {
   "cell_type": "code",
   "execution_count": 3,
   "metadata": {},
   "outputs": [],
   "source": [
    "watts = 0.3022"
   ]
  },
  {
   "cell_type": "markdown",
   "metadata": {},
   "source": [
    "## Video playback"
   ]
  },
  {
   "cell_type": "code",
   "execution_count": 4,
   "metadata": {},
   "outputs": [],
   "source": [
    "watts = 0.4535"
   ]
  },
  {
   "cell_type": "markdown",
   "metadata": {},
   "source": [
    "## Battery capacities"
   ]
  },
  {
   "cell_type": "code",
   "execution_count": 5,
   "metadata": {},
   "outputs": [
    {
     "data": {
      "text/plain": [
       "0     3.81\n",
       "1     3.82\n",
       "2     3.82\n",
       "3     3.82\n",
       "4     3.80\n",
       "5     3.80\n",
       "6     3.82\n",
       "7     3.82\n",
       "8     3.82\n",
       "9     3.82\n",
       "10    3.80\n",
       "11    3.80\n",
       "12    3.80\n",
       "13    3.70\n",
       "14    3.70\n",
       "15    3.70\n",
       "16    3.70\n",
       "17    3.70\n",
       "18    3.85\n",
       "19    3.85\n",
       "20    3.85\n",
       "21     NaN\n",
       "22     NaN\n",
       "23    3.85\n",
       "24    3.85\n",
       "25    3.85\n",
       "26     NaN\n",
       "27     NaN\n",
       "28     NaN\n",
       "29    3.80\n",
       "30    3.85\n",
       "31    3.85\n",
       "32     NaN\n",
       "33     NaN\n",
       "34     NaN\n",
       "35     NaN\n",
       "36     NaN\n",
       "Name: voltage, dtype: float64"
      ]
     },
     "execution_count": 5,
     "metadata": {},
     "output_type": "execute_result"
    }
   ],
   "source": [
    "batteries = pd.read_csv(\"smartphone_batteries.csv\", sep=\";\", \n",
    "                         names=('model', 'capacity', 'voltage', 'runtime'), header=0)\n",
    "pd.to_numeric(batteries.capacity)\n",
    "pd.to_numeric(batteries.voltage)"
   ]
  },
  {
   "cell_type": "markdown",
   "metadata": {},
   "source": [
    "Sources:\n",
    "* https://www.fluxchargers.com/blogs/flux-blog/best-smartphones-largest-battery-capacity-life\n",
    "* https://www.theiphonewiki.com/wiki/List_of_iPhones\n",
    "* https://en.wikipedia.org/wiki/Samsung_Galaxy_Note_7\n",
    "* https://en.wikipedia.org/wiki/Samsung_Galaxy_S7_Edge\n",
    "* https://en.wikipedia.org/wiki/Samsung_Galaxy_S6\n",
    "* https://en.wikipedia.org/wiki/Samsung_Galaxy_A5_(2015)\n",
    "* https://en.wikipedia.org/wiki/Samsung_Galaxy_S9\n",
    "* https://en.wikipedia.org/wiki/Samsung_Galaxy_S8\n",
    "* https://en.wikipedia.org/wiki/Samsung_Galaxy_S7\n",
    "* https://de.wikipedia.org/wiki/Sony_Xperia_Z2"
   ]
  },
  {
   "cell_type": "code",
   "execution_count": 6,
   "metadata": {},
   "outputs": [],
   "source": [
    "parser = argparse.ArgumentParser(description='How much energy is stored in a smartphone battery')\n",
    "parser.add_argument(\"--model\", help=\"Model\", default=\"iPhone 6s\")\n",
    "parser.add_argument(\"-f\", help=\"For jupyter\")\n",
    "args = parser.parse_args()"
   ]
  },
  {
   "cell_type": "code",
   "execution_count": 7,
   "metadata": {},
   "outputs": [
    {
     "name": "stdout",
     "output_type": "stream",
     "text": [
      "Voltage (V): 3.8099999999999996\n",
      "Capacity (mAh): 2232.5\n"
     ]
    }
   ],
   "source": [
    "if args.model:\n",
    "    models = batteries[batteries.model.str.contains(args.model)]\n",
    "    capacity_mAh = models.capacity.mean()\n",
    "    voltage_v = models.voltage.mean()\n",
    "    if not(voltage_v > 0):\n",
    "       voltage_v = batteries.voltage.mean() \n",
    "else:\n",
    "    voltage_v = batteries.voltage.mean()\n",
    "    capacity_mAh = batteries.capacity.mean()\n",
    "print(\"Voltage (V):\", voltage_v)\n",
    "print(\"Capacity (mAh):\", capacity_mAh)"
   ]
  },
  {
   "cell_type": "markdown",
   "metadata": {},
   "source": [
    "## Convert to kWh"
   ]
  },
  {
   "cell_type": "code",
   "execution_count": 8,
   "metadata": {},
   "outputs": [
    {
     "name": "stdout",
     "output_type": "stream",
     "text": [
      "0.008505825\n"
     ]
    }
   ],
   "source": [
    "mWh = voltage_v * capacity_mAh\n",
    "kWh = mWh / 1000 / 1000\n",
    "print(kWh)"
   ]
  },
  {
   "cell_type": "code",
   "execution_count": null,
   "metadata": {},
   "outputs": [],
   "source": []
  }
 ],
 "metadata": {
  "kernelspec": {
   "display_name": "Python 3",
   "language": "python",
   "name": "python3"
  },
  "language_info": {
   "codemirror_mode": {
    "name": "ipython",
    "version": 3
   },
   "file_extension": ".py",
   "mimetype": "text/x-python",
   "name": "python",
   "nbconvert_exporter": "python",
   "pygments_lexer": "ipython3",
   "version": "3.7.1"
  }
 },
 "nbformat": 4,
 "nbformat_minor": 2
}
