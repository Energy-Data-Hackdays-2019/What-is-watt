{
 "cells": [
  {
   "cell_type": "markdown",
   "metadata": {},
   "source": [
    "# The work energy does for us\n",
    "\n",
    "The standard of life Swiss people enjoy is amazing. A big part of this is probably due to the usage of large amounts of energy. But how much work is truly at our disposal thanks to this?"
   ]
  },
  {
   "cell_type": "code",
   "execution_count": 1,
   "metadata": {},
   "outputs": [],
   "source": [
    "import pandas as pd\n",
    "import argparse"
   ]
  },
  {
   "cell_type": "markdown",
   "metadata": {},
   "source": [
    "Convert from kilo-calories used to measure human energy consumption to kWh used to measure the consumption of electrical energy"
   ]
  },
  {
   "cell_type": "code",
   "execution_count": 2,
   "metadata": {},
   "outputs": [],
   "source": [
    "def kcal_to_kwh(kcal):\n",
    "    joule = kcal * 1000 * 4.1868\n",
    "    return joule / (3.6 * 10**6)"
   ]
  },
  {
   "cell_type": "markdown",
   "metadata": {},
   "source": [
    "Source:\n",
    "* https://en.wikipedia.org/wiki/Conversion_of_units#Energy"
   ]
  },
  {
   "cell_type": "markdown",
   "metadata": {},
   "source": [
    "## Setup"
   ]
  },
  {
   "cell_type": "code",
   "execution_count": 3,
   "metadata": {},
   "outputs": [],
   "source": [
    "parser = argparse.ArgumentParser(description='How many people would have to work for a typical Swiss energy comsumption')\n",
    "parser.add_argument(\"--weight\", help=\"Weight (kg)\", default=80, type=int)\n",
    "parser.add_argument(\"--height\", help=\"Height (cm)\", default=180, type=int)\n",
    "parser.add_argument(\"--age\", help=\"Age (years)\", default=30, type=int)\n",
    "parser.add_argument(\"--sex\", help=\"Sex (m|f)\", default=\"m\", type=str)\n",
    "parser.add_argument(\"--activity\", help=\"Type of activity\", default=\"multiple household tasks all at once, moderate effort\", type=str)\n",
    "parser.add_argument(\"--hours\", help=\"Hours of work\", default=8, type=float)\n",
    "parser.add_argument(\"-f\", help=\"For jupyter\")\n",
    "args = parser.parse_args()\n",
    "\n",
    "\n",
    "weight_kg = args.weight\n",
    "height_cm = args.height\n",
    "age_years = args.age\n",
    "sex = args.sex\n",
    "activity = args.activity\n",
    "work_hours = args.hours\n"
   ]
  },
  {
   "cell_type": "markdown",
   "metadata": {},
   "source": [
    "## Resting Energy Expenditure (REE) in kcal"
   ]
  },
  {
   "cell_type": "code",
   "execution_count": 4,
   "metadata": {},
   "outputs": [
    {
     "data": {
      "text/plain": [
       "1780.0"
      ]
     },
     "execution_count": 4,
     "metadata": {},
     "output_type": "execute_result"
    }
   ],
   "source": [
    "def resting_energy_expenditure(weight_kg, height_cm, age_years, sex):\n",
    "    if sex == \"m\":\n",
    "        expenditure = 10*weight_kg+6.25*height_cm-5*age_years+5\n",
    "    elif sex == \"f\":\n",
    "        expenditure = 10*weight_kg+6.25*height_cm-5*age_years-161\n",
    "    return expenditure\n",
    "\n",
    "resting_energy_expenditure(weight_kg, height_cm, age_years, sex)"
   ]
  },
  {
   "cell_type": "markdown",
   "metadata": {},
   "source": [
    "Source:\n",
    "* Mifflin, M. D., St Jeor, S. T., Hill, L. A., Scott, B. J., Daugherty, S. A., & Koh, Y. O. (1990). A new predictive equation for resting energy expenditure in healthy individuals. The American journal of clinical nutrition, 51(2), 241-247.\n",
    "\n",
    "Not used:\n",
    "* Bouchard, Claude, et al. \"A method to assess energy expenditure in children and adults.\" The American journal of clinical nutrition 37.3 (1983): 461-467.\n",
    "* Ravussin, Eric, et al. \"Determinants of 24-hour energy expenditure in man. Methods and results using a respiratory chamber.\" The Journal of clinical investigation 78.6 (1986): 1568-1578."
   ]
  },
  {
   "cell_type": "markdown",
   "metadata": {},
   "source": [
    "## Activity factor: Metabolic Equivalent (MET)\n",
    "\n",
    "The MET describes how much more energy is expended when doing a certain activity compared to doing nothing (MET of 1.0). For example:\n",
    "\n",
    "* Sitting/eating: 1.5\n",
    "* Cleaning: 3.3\n",
    "* Soccer: 7\n",
    "\n",
    "We use the mean of the MET's in an activity category. For example:\n",
    "\n",
    "* Inactivity: 1.3\n",
    "* Housework (\"home\"): 3.5"
   ]
  },
  {
   "cell_type": "code",
   "execution_count": 5,
   "metadata": {},
   "outputs": [],
   "source": [
    "def activity_factor(activity):\n",
    "    df = pd.read_csv('MET_intensities.csv', sep=\";\",)\n",
    "    pd.to_numeric(df.METS)\n",
    "    return df[df['SPECIFIC ACTIVITIES'].str.contains(activity)].METS"
   ]
  },
  {
   "cell_type": "code",
   "execution_count": 6,
   "metadata": {},
   "outputs": [
    {
     "data": {
      "text/plain": [
       "3.5"
      ]
     },
     "execution_count": 6,
     "metadata": {},
     "output_type": "execute_result"
    }
   ],
   "source": [
    "activity_factor(activity).mean()"
   ]
  },
  {
   "cell_type": "markdown",
   "metadata": {},
   "source": [
    "Source:\n",
    "* Ainsworth, B. E., Haskell, W. L., Herrmann, S. D., Meckes, N., Bassett Jr, D. R., Tudor-Locke, C., ... & Leon, A. S. (2011). 2011 Compendium of Physical Activities: a second update of codes and MET values. Medicine & science in sports & exercise, 43(8), 1575-1581.\n",
    "\n",
    "Alternative to MET: Physical Activity Rates (PAR). The PAR-scores are pretty similar to the MET.\n",
    "\n",
    "* Eating/drinking: 1.4–1.6\n",
    "* Housework: 2.8\n",
    "* Football: 8\n",
    "\n",
    "Sources:\n",
    "\n",
    "* Vaz, M., Karaolis, N., Draper, A., & Shetty, P. (2005). A compilation of energy costs of physical activities. Public health nutrition, 8(7a), 1153-1183.\n",
    "* http://www.fao.org/docrep/007/y5686e/y5686e0e.htm"
   ]
  },
  {
   "cell_type": "markdown",
   "metadata": {},
   "source": [
    "To calculate the amount of energy that is actually used for work, we subtract the REE. There are two methods:\n",
    "\n",
    "* Ainsworth et al. describe how the energy expenditure can directly be calculated from the MET-score and the weight with this formula: \n",
    "\n",
    "$$kilocalories = MET \\times  weight\\ in\\ kilograms \\times duration\\ in\\ hours$$\n",
    "\n",
    "* To get more individualized values, we could first calculate the Resting Energy Expenditure or Base Metabolic Rate (BMR) by Mifflin et al. and multiply it with the MET-score:\n",
    "\n",
    "$$kilocalories = \\frac{REE \\times MET \\times duration\\ in\\ hours}{24}$$"
   ]
  },
  {
   "cell_type": "code",
   "execution_count": 7,
   "metadata": {},
   "outputs": [
    {
     "name": "stdout",
     "output_type": "stream",
     "text": [
      " % difference for young men: 4.6875 \n",
      " % difference for old men: 17.7083333333\n"
     ]
    }
   ],
   "source": [
    "kcal_ainsworth = activity_factor(activity).mean() * weight_kg * work_hours\n",
    "\n",
    "kcal_mifflin_young = (resting_energy_expenditure(weight_kg, 180, 20, \"m\") \\\n",
    "               * activity_factor(activity).mean() * work_hours) / 24\n",
    "\n",
    "kcal_mifflin_old = (resting_energy_expenditure(weight_kg, 180, 70, \"m\") \\\n",
    "               * activity_factor(activity).mean() * work_hours) / 24\n",
    "\n",
    "kcal_mifflin = (resting_energy_expenditure(weight_kg, height_cm, age_years, sex) \\\n",
    "               * activity_factor(activity).mean() * work_hours) / 24 # we will use this later\n",
    "\n",
    "print(\n",
    "    \" % difference for young men:\", 100*(kcal_ainsworth - kcal_mifflin_young)/kcal_ainsworth, \"\\n\",\n",
    "    \"% difference for old men:\", 100*(kcal_ainsworth - kcal_mifflin_old)/kcal_ainsworth,\n",
    ")"
   ]
  },
  {
   "cell_type": "markdown",
   "metadata": {},
   "source": [
    "The formula proposed by Ainsworth et al. is simpler but it seems to err on the high side. We will therefore use the formula based on the REE."
   ]
  },
  {
   "cell_type": "markdown",
   "metadata": {},
   "source": [
    "## Power output\n",
    "\n",
    "We now have a way to calculate the energy use of the metabolism based on the type of phyiscal activity. Yet not all of this energy can be converted in outwards work. Luckily the MET-score table has some entries which calculate the MET for a given power output on a bycicle. We would like to find out the relationship between a MET-score and the power output:"
   ]
  },
  {
   "cell_type": "code",
   "execution_count": 2,
   "metadata": {},
   "outputs": [
    {
     "ename": "NameError",
     "evalue": "name 'pd' is not defined",
     "output_type": "error",
     "traceback": [
      "\u001b[0;31m---------------------------------------------------------------------------\u001b[0m",
      "\u001b[0;31mNameError\u001b[0m                                 Traceback (most recent call last)",
      "\u001b[0;32m<ipython-input-2-faabbf985c6e>\u001b[0m in \u001b[0;36m<module>\u001b[0;34m\u001b[0m\n\u001b[0;32m----> 1\u001b[0;31m \u001b[0mdf\u001b[0m \u001b[0;34m=\u001b[0m \u001b[0mpd\u001b[0m\u001b[0;34m.\u001b[0m\u001b[0mread_csv\u001b[0m\u001b[0;34m(\u001b[0m\u001b[0;34m'MET_intensities.csv'\u001b[0m\u001b[0;34m,\u001b[0m \u001b[0msep\u001b[0m\u001b[0;34m=\u001b[0m\u001b[0;34m\";\"\u001b[0m\u001b[0;34m,\u001b[0m\u001b[0;34m)\u001b[0m\u001b[0;34m\u001b[0m\u001b[0;34m\u001b[0m\u001b[0m\n\u001b[0m\u001b[1;32m      2\u001b[0m \u001b[0mpd\u001b[0m\u001b[0;34m.\u001b[0m\u001b[0mto_numeric\u001b[0m\u001b[0;34m(\u001b[0m\u001b[0mdf\u001b[0m\u001b[0;34m.\u001b[0m\u001b[0mMETS\u001b[0m\u001b[0;34m)\u001b[0m\u001b[0;34m\u001b[0m\u001b[0;34m\u001b[0m\u001b[0m\n\u001b[1;32m      3\u001b[0m \u001b[0;34m\u001b[0m\u001b[0m\n\u001b[1;32m      4\u001b[0m \u001b[0;31m#MET_power_proportions =\u001b[0m\u001b[0;34m\u001b[0m\u001b[0;34m\u001b[0m\u001b[0;34m\u001b[0m\u001b[0m\n\u001b[1;32m      5\u001b[0m watts_METS = pd.DataFrame([\n",
      "\u001b[0;31mNameError\u001b[0m: name 'pd' is not defined"
     ]
    }
   ],
   "source": [
    "df = pd.read_csv('MET_intensities.csv', sep=\";\",)\n",
    "pd.to_numeric(df.METS)\n",
    "\n",
    "#MET_power_proportions = \n",
    "watts_METS = pd.DataFrame([\n",
    "    [40, df[df['SPECIFIC ACTIVITIES'].str.contains('30-50 watts')].METS.iloc[0]],\n",
    "    [70, df[df['SPECIFIC ACTIVITIES'].str.contains('51-89 watts')].METS.iloc[0]],\n",
    "    [95, df[df['SPECIFIC ACTIVITIES'].str.contains('90-100 watts')].METS.iloc[0]],\n",
    "    [130, df[df['SPECIFIC ACTIVITIES'].str.contains('101-160 watts')].METS.iloc[0]],\n",
    "    [180, df[df['SPECIFIC ACTIVITIES'].str.contains('161-200 watts')].METS.iloc[0]],\n",
    "    [235, df[df['SPECIFIC ACTIVITIES'].str.contains(' 201-270 watts')].METS.iloc[0]],\n",
    "],\n",
    "columns= ['Watts', 'METS'])\n",
    "#watts_METS.plot.line(x='Watts', y='METS')"
   ]
  },
  {
   "cell_type": "markdown",
   "metadata": {},
   "source": [
    "Visibly the relationship between METs and output power in watts is pretty much linear. We can therefore use a ratio to convert from one to the other. We take the mean ratio from the above six entries."
   ]
  },
  {
   "cell_type": "code",
   "execution_count": 9,
   "metadata": {},
   "outputs": [],
   "source": [
    "def METS_to_watts(METS):\n",
    "    ratios = []\n",
    "    for entry in watts_METS.values:\n",
    "        ratios.append(entry[0]/entry[1])\n",
    "    ratio = pd.DataFrame(ratios).mean()[0]\n",
    "    return METS * ratio"
   ]
  },
  {
   "cell_type": "markdown",
   "metadata": {},
   "source": [
    "Source:\n",
    "* Ainsworth, B. E., Haskell, W. L., Herrmann, S. D., Meckes, N., Bassett Jr, D. R., Tudor-Locke, C., ... & Leon, A. S. (2011). 2011 Compendium of Physical Activities: a second update of codes and MET values. Medicine & science in sports & exercise, 43(8), 1575-1581."
   ]
  },
  {
   "cell_type": "markdown",
   "metadata": {},
   "source": [
    "## Daily performance of a worker\n",
    "\n",
    "With this we can calculate how much work in kWh one person can deliver per day (depending only on work hours and actvity factor)."
   ]
  },
  {
   "cell_type": "code",
   "execution_count": 10,
   "metadata": {},
   "outputs": [
    {
     "name": "stdout",
     "output_type": "stream",
     "text": [
      "Performance (kWh/day): 0.410221330957\n"
     ]
    }
   ],
   "source": [
    "work_output_kwh_day = work_hours * METS_to_watts(activity_factor(activity).mean()) / 1000\n",
    "print(\"Performance (kWh/day):\", work_output_kwh_day)"
   ]
  },
  {
   "cell_type": "markdown",
   "metadata": {},
   "source": [
    "## Efficiency of a worker\n",
    "\n",
    "As mentioned above, not all the energy that the metabolism uses is transformed into work. With the above results we can calculate the efficiency of a worker:"
   ]
  },
  {
   "cell_type": "code",
   "execution_count": 11,
   "metadata": {},
   "outputs": [
    {
     "name": "stdout",
     "output_type": "stream",
     "text": [
      "Efficiency (%):  16.9852417555\n"
     ]
    }
   ],
   "source": [
    "efficiency = work_output_kwh_day / kcal_to_kwh(kcal_mifflin)\n",
    "print(\"Efficiency (%): \", 100*efficiency )"
   ]
  },
  {
   "cell_type": "markdown",
   "metadata": {},
   "source": [
    "We verify this score based on another paper and another means of calculation. Hagerman et al. found that the mean maximum energy produced on a training bycicle was 207 watts. Here we use the direct formula proposed by Ainsworth et al. and the highest MET-score for \"bycicling\"  "
   ]
  },
  {
   "cell_type": "code",
   "execution_count": 12,
   "metadata": {},
   "outputs": [
    {
     "name": "stdout",
     "output_type": "stream",
     "text": [
      "Efficiency (%):  13.9053095443\n"
     ]
    }
   ],
   "source": [
    "cycling = weight_kg * activity_factor('bicycling').max() * 1 \n",
    "internal_kWh = kcal_to_kwh(cycling)\n",
    "external_kWh = 207 / 1000\n",
    "proportion = external_kWh / internal_kWh\n",
    "print(\"Efficiency (%): \", 100*proportion )"
   ]
  },
  {
   "cell_type": "markdown",
   "metadata": {},
   "source": [
    "The two values are encouragingly close. An efficiency of around 15% is therefore probably close to reality."
   ]
  },
  {
   "cell_type": "markdown",
   "metadata": {},
   "source": [
    "Sources:\n",
    "* Hagerman, F. C., Lawrence, R. A., & Mansfield, M. C. (1988). A comparison of energy expenditure during rowing and cycling ergometry. Medicine and science in sports and exercise, 20(5), 479-488."
   ]
  },
  {
   "cell_type": "markdown",
   "metadata": {},
   "source": [
    "## Annual total energy consumption of a Swiss person\n",
    "\n",
    "We move on to see how much energy a typical Swiss person uses and how many persons would need to werk for her to replace this work."
   ]
  },
  {
   "cell_type": "code",
   "execution_count": 1,
   "metadata": {},
   "outputs": [],
   "source": [
    "def energy_use_per_capita(year):\n",
    "    df = pd.read_csv('endenergieverbrauch.csv', sep=\";\",)\n",
    "    return df[df.Jahr == year].Kilowattstunden.iloc[0]\n",
    "\n",
    "#pd.read_csv('endenergieverbrauch.csv', sep=\";\").plot(x='Jahr', y='Kilowattstunden')"
   ]
  },
  {
   "cell_type": "markdown",
   "metadata": {},
   "source": [
    "We use data from the Swiss Federal Office of Statistics for this. It contains a timeseries of total energy consumption per capita since 1980. As we can see, it has peaked in the 1990s and is no in decline.\n",
    "\n",
    "Source:\n",
    "* https://www.bfs.admin.ch/bfs/de/home/statistiken/nachhaltige-entwicklung/monet/alle-nach-themen/energie-klima/endenergieverbrauch.html"
   ]
  },
  {
   "cell_type": "code",
   "execution_count": 14,
   "metadata": {},
   "outputs": [
    {
     "name": "stdout",
     "output_type": "stream",
     "text": [
      "28341 kWh\n"
     ]
    }
   ],
   "source": [
    "print(energy_use_per_capita(2016), \"kWh\")"
   ]
  },
  {
   "cell_type": "markdown",
   "metadata": {},
   "source": [
    "## Workers needed to replace this consumption\n",
    "\n",
    "If we couldn't rely on all our energy sources and would have to employ people instead, how many would we need? We can use the daily performance of a worker calculated above to find out: "
   ]
  },
  {
   "cell_type": "code",
   "execution_count": 15,
   "metadata": {},
   "outputs": [
    {
     "data": {
      "text/plain": [
       "77.646575342465752"
      ]
     },
     "execution_count": 15,
     "metadata": {},
     "output_type": "execute_result"
    }
   ],
   "source": [
    "energy_used_kWh_day = energy_use_per_capita(2016) / 365\n",
    "energy_used_kWh_day"
   ]
  },
  {
   "cell_type": "code",
   "execution_count": 16,
   "metadata": {},
   "outputs": [
    {
     "name": "stdout",
     "output_type": "stream",
     "text": [
      "Number of employees needed:  189.279711909\n"
     ]
    }
   ],
   "source": [
    "nb_workers = energy_used_kWh_day / work_output_kwh_day\n",
    "print(\"Number of employees needed: \", nb_workers)"
   ]
  },
  {
   "cell_type": "markdown",
   "metadata": {},
   "source": [
    "## Workers for needed in a 2000-watt society\n",
    "\n",
    "In the 2000-watt society promoted as the sustainable perspecitve by the governement, each person would only us 48 kWh per day instead of 78. That makes less workers but still an impressive number "
   ]
  },
  {
   "cell_type": "code",
   "execution_count": 17,
   "metadata": {},
   "outputs": [
    {
     "name": "stdout",
     "output_type": "stream",
     "text": [
      "Number of employees needed:  117.010005033\n"
     ]
    }
   ],
   "source": [
    "future_kWh_day = 2 * 24\n",
    "nb_workers_future = future_kWh_day / work_output_kwh_day\n",
    "print(\"Number of employees needed: \", nb_workers_future)"
   ]
  },
  {
   "cell_type": "markdown",
   "metadata": {},
   "source": [
    "## Conclusion\n",
    "\n",
    "In any case, it is impressive how much human labor has been saved due to the use of energy sources. It only shows how valuable they are. Thanks to them we can all live a life only a king/queen could afford in the past."
   ]
  },
  {
   "cell_type": "code",
   "execution_count": 19,
   "metadata": {},
   "outputs": [
    {
     "name": "stdout",
     "output_type": "stream",
     "text": [
      "0.410221330957\n"
     ]
    }
   ],
   "source": [
    "print(work_output_kwh_day)"
   ]
  },
  {
   "cell_type": "markdown",
   "metadata": {},
   "source": [
    "## See also\n",
    "* [The Toaster Challenge, \"Olympic Cyclist Vs. Toaster: Can He Power It?\", Youtube](https://www.youtube.com/watch?v=S4O5voOCqAQ)"
   ]
  },
  {
   "cell_type": "code",
   "execution_count": null,
   "metadata": {},
   "outputs": [],
   "source": []
  },
  {
   "cell_type": "code",
   "execution_count": null,
   "metadata": {},
   "outputs": [],
   "source": []
  }
 ],
 "metadata": {
  "kernelspec": {
   "display_name": "Python 3",
   "language": "python",
   "name": "python3"
  },
  "language_info": {
   "codemirror_mode": {
    "name": "ipython",
    "version": 3
   },
   "file_extension": ".py",
   "mimetype": "text/x-python",
   "name": "python",
   "nbconvert_exporter": "python",
   "pygments_lexer": "ipython3",
   "version": "3.7.1"
  }
 },
 "nbformat": 4,
 "nbformat_minor": 2
}
