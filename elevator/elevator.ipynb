{
 "cells": [
  {
   "cell_type": "code",
   "execution_count": 1,
   "metadata": {},
   "outputs": [],
   "source": [
    "import pandas as pd\n",
    "import argparse"
   ]
  },
  {
   "cell_type": "markdown",
   "metadata": {},
   "source": [
    "## Sources\n",
    "\n",
    "* Jürg Nipkow; Max Schalcher, \"Energy consumption and efficiency potentials of lifts\", \n",
    "* **30 Wh per floor**: https://wp.josh.com/2013/05/29/elevator-power-usage-should-i-take-the-stairs/\n",
    "* 2.5 Wh per Floor: http://fatknowledge.blogspot.com/2007/02/how-much-energy-does-elevator-use.html\n",
    "* **~200 Wh per cycle** and **~10Wh per floor**: S. Shahnawaz Ahmed, Asif Iqbal, Rashed Sarwar, Md. Sayeed Salam, \"Modeling the energy consumption of a lift\", Energy and Buildings Volume 71, March 2014, Pages 61-67"
   ]
  },
  {
   "cell_type": "code",
   "execution_count": 2,
   "metadata": {},
   "outputs": [],
   "source": [
    "parser = argparse.ArgumentParser(description='How much energy an elevator uses')\n",
    "parser.add_argument(\"--building\", help=\"Type of building: apartment, office, hospital\", default=\"office\", type=str)\n",
    "parser.add_argument(\"--standby\", help=\"Should the standby energy be included?\", default=\"yes\", type=str)\n",
    "parser.add_argument(\"-f\", help=\"For jupyter\")\n",
    "args = parser.parse_args()"
   ]
  },
  {
   "cell_type": "code",
   "execution_count": 3,
   "metadata": {},
   "outputs": [
    {
     "data": {
      "text/html": [
       "<div>\n",
       "<style scoped>\n",
       "    .dataframe tbody tr th:only-of-type {\n",
       "        vertical-align: middle;\n",
       "    }\n",
       "\n",
       "    .dataframe tbody tr th {\n",
       "        vertical-align: top;\n",
       "    }\n",
       "\n",
       "    .dataframe thead th {\n",
       "        text-align: right;\n",
       "    }\n",
       "</style>\n",
       "<table border=\"1\" class=\"dataframe\">\n",
       "  <thead>\n",
       "    <tr style=\"text-align: right;\">\n",
       "      <th></th>\n",
       "      <th>Type of building/purpose</th>\n",
       "      <th>Capacity (kg)</th>\n",
       "      <th>Speed (m/s)</th>\n",
       "      <th>No. of stops</th>\n",
       "      <th>Wh per cycle</th>\n",
       "      <th>No. of travel cycles p.a.</th>\n",
       "      <th>kWh p.a., including stand-by</th>\n",
       "      <th>% in stand-by mode</th>\n",
       "    </tr>\n",
       "  </thead>\n",
       "  <tbody>\n",
       "    <tr>\n",
       "      <th>0</th>\n",
       "      <td>Small apartment building</td>\n",
       "      <td>630</td>\n",
       "      <td>1.0</td>\n",
       "      <td>6</td>\n",
       "      <td>4</td>\n",
       "      <td>40000</td>\n",
       "      <td>950</td>\n",
       "      <td>83</td>\n",
       "    </tr>\n",
       "    <tr>\n",
       "      <th>1</th>\n",
       "      <td>Office block/medium- sized apartment block</td>\n",
       "      <td>1000</td>\n",
       "      <td>1.5</td>\n",
       "      <td>8</td>\n",
       "      <td>13</td>\n",
       "      <td>200000</td>\n",
       "      <td>4350</td>\n",
       "      <td>40</td>\n",
       "    </tr>\n",
       "    <tr>\n",
       "      <th>2</th>\n",
       "      <td>Hospital, large office block</td>\n",
       "      <td>2000</td>\n",
       "      <td>2.0</td>\n",
       "      <td>12</td>\n",
       "      <td>19</td>\n",
       "      <td>700000</td>\n",
       "      <td>17700</td>\n",
       "      <td>25</td>\n",
       "    </tr>\n",
       "  </tbody>\n",
       "</table>\n",
       "</div>"
      ],
      "text/plain": [
       "                     Type of building/purpose  Capacity (kg)  Speed (m/s)  \\\n",
       "0                    Small apartment building            630          1.0   \n",
       "1  Office block/medium- sized apartment block           1000          1.5   \n",
       "2                Hospital, large office block           2000          2.0   \n",
       "\n",
       "   No. of stops  Wh per cycle  No. of travel cycles p.a.  \\\n",
       "0             6             4                      40000   \n",
       "1             8            13                     200000   \n",
       "2            12            19                     700000   \n",
       "\n",
       "   kWh p.a., including stand-by  % in stand-by mode  \n",
       "0                           950                  83  \n",
       "1                          4350                  40  \n",
       "2                         17700                  25  "
      ]
     },
     "execution_count": 3,
     "metadata": {},
     "output_type": "execute_result"
    }
   ],
   "source": [
    "elevators = pd.read_csv(\"building-types.csv\", sep=\";\")\n",
    "elevators"
   ]
  },
  {
   "cell_type": "code",
   "execution_count": 4,
   "metadata": {},
   "outputs": [],
   "source": [
    "if (args.building == \"office\"):\n",
    "    building_type = elevators[elevators[elevators.columns[0]].str.contains(\"Office block/medium- sized apartment block\")]\n",
    "if (args.building == \"apartment\"):\n",
    "    building_type = elevators[elevators[elevators.columns[0]].str.contains(\"Small apartment building\")]\n",
    "if (args.building == \"hospital\"):\n",
    "    building_type = elevators[elevators[elevators.columns[0]].str.contains(\"Hospital, large office block\")]"
   ]
  },
  {
   "cell_type": "code",
   "execution_count": 5,
   "metadata": {},
   "outputs": [],
   "source": [
    "cycles_per_year = int(building_type[\"No. of travel cycles p.a.\"].iloc[0])\n",
    "kWh_per_year = int(building_type[\"kWh p.a., including stand-by\"].iloc[0])\n",
    "stops_per_cycle = int(building_type[\"No. of stops\"].iloc[0])"
   ]
  },
  {
   "cell_type": "code",
   "execution_count": 6,
   "metadata": {},
   "outputs": [
    {
     "data": {
      "text/plain": [
       "0.02175"
      ]
     },
     "execution_count": 6,
     "metadata": {},
     "output_type": "execute_result"
    }
   ],
   "source": [
    "if (args.standby == \"no\"):\n",
    "    kWh_per_cycle = int(building_type[\"No. of travel cycles p.a.\"].iloc[0]) / 1000\n",
    "else:\n",
    "    kWh_per_cycle = kWh_per_year / cycles_per_year\n",
    "\n",
    "kWh_per_cycle"
   ]
  },
  {
   "cell_type": "code",
   "execution_count": 7,
   "metadata": {},
   "outputs": [
    {
     "name": "stdout",
     "output_type": "stream",
     "text": [
      "0.00271875\n"
     ]
    }
   ],
   "source": [
    "kWh_per_floor = kWh_per_cycle/ stops_per_cycle\n",
    "print(kWh_per_floor)"
   ]
  },
  {
   "cell_type": "code",
   "execution_count": null,
   "metadata": {},
   "outputs": [],
   "source": []
  }
 ],
 "metadata": {
  "kernelspec": {
   "display_name": "Python 3",
   "language": "python",
   "name": "python3"
  },
  "language_info": {
   "codemirror_mode": {
    "name": "ipython",
    "version": 3
   },
   "file_extension": ".py",
   "mimetype": "text/x-python",
   "name": "python",
   "nbconvert_exporter": "python",
   "pygments_lexer": "ipython3",
   "version": "3.7.1"
  }
 },
 "nbformat": 4,
 "nbformat_minor": 2
}
