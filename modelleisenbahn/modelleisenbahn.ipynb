{
 "cells": [
  {
   "cell_type": "code",
   "execution_count": 1,
   "metadata": {},
   "outputs": [],
   "source": [
    "import argparse"
   ]
  },
  {
   "cell_type": "code",
   "execution_count": 36,
   "metadata": {},
   "outputs": [],
   "source": [
    "parser = argparse.ArgumentParser(description='How much energy does a train uses per km')\n",
    "parser.add_argument(\"--distance\", help=\"The travel distance in m\", default=1000*100, type=float)\n",
    "parser.add_argument(\"-f\", help=\"For jupyter\")\n",
    "args = parser.parse_args()"
   ]
  },
  {
   "cell_type": "markdown",
   "metadata": {},
   "source": [
    "## Sources\n",
    "\n",
    "* Power in watt: http://forum.miniatur-wunderland.de/car-system-rc-modellbau-f3/stromverbrauch-von-einer-modelleisenbahnlok-t29184.html\n",
    "* Speed in km/h: The speed should be the fraction of the size of the model. So if the model is at scale 1:87, then it should run 1/87 as fast as the original. https://www.wer-weiss-was.de/t/geschwindigkeit-einer-modelleisenbahn/5203097. But it's more complicated than that: https://www.1zu160.net/goodies/geschwindigkeitsrechner.php"
   ]
  },
  {
   "cell_type": "code",
   "execution_count": 37,
   "metadata": {},
   "outputs": [],
   "source": [
    "power_watt = 5\n",
    "speed_cm_s = 44.70 # for a train running at 140 km/h in original size\n",
    "speed_m_s = speed_cm_s / 100"
   ]
  },
  {
   "cell_type": "code",
   "execution_count": 38,
   "metadata": {},
   "outputs": [],
   "source": [
    "duration = args.distance / speed_m_s"
   ]
  },
  {
   "cell_type": "code",
   "execution_count": 39,
   "metadata": {},
   "outputs": [],
   "source": [
    "power_ws = power_watt * duration\n",
    "power_kWh = power_ws / 60 / 60 / 1000"
   ]
  },
  {
   "cell_type": "code",
   "execution_count": 40,
   "metadata": {},
   "outputs": [
    {
     "data": {
      "text/plain": [
       "0.3107133979617201"
      ]
     },
     "execution_count": 40,
     "metadata": {},
     "output_type": "execute_result"
    }
   ],
   "source": [
    "power_kWh"
   ]
  },
  {
   "cell_type": "code",
   "execution_count": null,
   "metadata": {},
   "outputs": [],
   "source": []
  }
 ],
 "metadata": {
  "kernelspec": {
   "display_name": "Python 3",
   "language": "python",
   "name": "python3"
  },
  "language_info": {
   "codemirror_mode": {
    "name": "ipython",
    "version": 3
   },
   "file_extension": ".py",
   "mimetype": "text/x-python",
   "name": "python",
   "nbconvert_exporter": "python",
   "pygments_lexer": "ipython3",
   "version": "3.7.1"
  }
 },
 "nbformat": 4,
 "nbformat_minor": 2
}
