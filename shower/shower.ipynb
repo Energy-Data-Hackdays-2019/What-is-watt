{
 "cells": [
  {
   "cell_type": "markdown",
   "metadata": {},
   "source": [
    "## Shower"
   ]
  },
  {
   "cell_type": "code",
   "execution_count": 1,
   "metadata": {},
   "outputs": [],
   "source": [
    "import pandas as pd\n",
    "import argparse"
   ]
  },
  {
   "cell_type": "code",
   "execution_count": 2,
   "metadata": {},
   "outputs": [],
   "source": [
    "parser = argparse.ArgumentParser(description='How much energy a shower uses')\n",
    "parser.add_argument(\"--model\", help=\"Model of your showerhead\", default=\"Average\", type=str)\n",
    "parser.add_argument(\"--temperature\", help=\"Temperature (C)\", default=38, type=float)\n",
    "parser.add_argument(\"--outside\", help=\"Outside temperature (C)\", default=15, type=float)\n",
    "parser.add_argument(\"--duration\", help=\"Duration of the shower (minutes)\", default=6.61, type=float)\n",
    "parser.add_argument(\"-f\", help=\"For jupyter\")\n",
    "args = parser.parse_args()"
   ]
  },
  {
   "cell_type": "code",
   "execution_count": 3,
   "metadata": {},
   "outputs": [],
   "source": [
    "showerheads = pd.read_csv('showerheads.csv', sep=\";\", names=('model', 'outflow', 'source'), header=0)"
   ]
  },
  {
   "cell_type": "code",
   "execution_count": 4,
   "metadata": {},
   "outputs": [
    {
     "data": {
      "text/plain": [
       "8.5099999999999998"
      ]
     },
     "execution_count": 4,
     "metadata": {},
     "output_type": "execute_result"
    }
   ],
   "source": [
    "throughput = showerheads[showerheads.model.str.contains(args.model)].outflow.mean()\n",
    "throughput"
   ]
  },
  {
   "cell_type": "code",
   "execution_count": 5,
   "metadata": {},
   "outputs": [],
   "source": [
    "temperature_C = args.temperature\n",
    "outside_temperature_C = args.outside #just an assumption\n",
    "duration_min = args.duration"
   ]
  },
  {
   "cell_type": "markdown",
   "metadata": {},
   "source": [
    "Sources:\n",
    "* http://haetten-sie-gewusst.blogspot.ch/2011/11/duschtemperatur-wie-hei-duschen-wir.html\n",
    "* https://www.energieverbraucher.de/de/site__2094/\n",
    "* http://www.bbc.com/news/science-environment-15836433\n",
    "* H. Hendrickx, Unilever, \"Objective measurement of showering behaviour in the UK and a behavioural intervention to reduce water use in the shower\",  Water Efficiency Conference 2015"
   ]
  },
  {
   "cell_type": "code",
   "execution_count": 6,
   "metadata": {},
   "outputs": [],
   "source": [
    "difference_K = temperature_C - outside_temperature_C\n",
    "liters = duration_min * throughput"
   ]
  },
  {
   "cell_type": "code",
   "execution_count": 7,
   "metadata": {},
   "outputs": [],
   "source": [
    "heat_capacity_J_g_K = 4.187"
   ]
  },
  {
   "cell_type": "markdown",
   "metadata": {},
   "source": [
    "Sources:\n",
    "* https://en.wikipedia.org/wiki/Water"
   ]
  },
  {
   "cell_type": "code",
   "execution_count": 8,
   "metadata": {},
   "outputs": [
    {
     "data": {
      "text/plain": [
       "1.5047325503055557"
      ]
     },
     "execution_count": 8,
     "metadata": {},
     "output_type": "execute_result"
    }
   ],
   "source": [
    "grams = liters * 1000\n",
    "joule = difference_K * grams * heat_capacity_J_g_K\n",
    "kWh = joule / (3.6*10**6)\n",
    "kWh"
   ]
  },
  {
   "cell_type": "markdown",
   "metadata": {},
   "source": [
    "Sources:\n",
    "* https://en.wikipedia.org/wiki/Conversion_of_units#Energy"
   ]
  },
  {
   "cell_type": "code",
   "execution_count": 9,
   "metadata": {},
   "outputs": [
    {
     "name": "stdout",
     "output_type": "stream",
     "text": [
      "1.50473255031\n"
     ]
    }
   ],
   "source": [
    "print(kWh)"
   ]
  },
  {
   "cell_type": "code",
   "execution_count": null,
   "metadata": {},
   "outputs": [],
   "source": []
  }
 ],
 "metadata": {
  "kernelspec": {
   "display_name": "Python 3",
   "language": "python",
   "name": "python3"
  },
  "language_info": {
   "codemirror_mode": {
    "name": "ipython",
    "version": 3
   },
   "file_extension": ".py",
   "mimetype": "text/x-python",
   "name": "python",
   "nbconvert_exporter": "python",
   "pygments_lexer": "ipython3",
   "version": "3.6.7"
  }
 },
 "nbformat": 4,
 "nbformat_minor": 2
}
