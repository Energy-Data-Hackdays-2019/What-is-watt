{
 "cells": [
  {
   "cell_type": "markdown",
   "metadata": {},
   "source": [
    "Source:\n",
    "* https://www.mobitool.ch/de/tools/vergleichsrechner-15.html\n",
    "* Annika Messmer, Rolf Frischknecht, \"Life Cycle Inventories of Rail Transport Services\", Treeze Ltd, 2016, http://treeze.ch/fileadmin/user_upload/downloads/Publications/Case_Studies/Mobility/544-LCI-Rail-Transport-Services-v2.0.pdf"
   ]
  },
  {
   "cell_type": "code",
   "execution_count": 2,
   "metadata": {},
   "outputs": [],
   "source": [
    "import argparse"
   ]
  },
  {
   "cell_type": "code",
   "execution_count": 3,
   "metadata": {},
   "outputs": [],
   "source": [
    "parser = argparse.ArgumentParser(description='How much energy does a train uses per km')\n",
    "parser.add_argument(\"--type\", help=\"Type of train: regio or intercity\", default=\"intercity\", type=str)\n",
    "parser.add_argument(\"--distance\", help=\"The travel distance in km\", default=100, type=float)\n",
    "parser.add_argument(\"-f\", help=\"For jupyter\")\n",
    "args = parser.parse_args()"
   ]
  },
  {
   "cell_type": "code",
   "execution_count": 4,
   "metadata": {},
   "outputs": [],
   "source": [
    "longdistance_pkm_kWh = 0.064\n",
    "regional_pkm_kWh = 0.127"
   ]
  },
  {
   "cell_type": "code",
   "execution_count": 5,
   "metadata": {},
   "outputs": [
    {
     "name": "stdout",
     "output_type": "stream",
     "text": [
      "6.4\n"
     ]
    }
   ],
   "source": [
    "if(args.type == \"regio\"):\n",
    "    print(regional_pkm_kWh * args.distance)\n",
    "else:\n",
    "    print(longdistance_pkm_kWh * args.distance)"
   ]
  },
  {
   "cell_type": "code",
   "execution_count": null,
   "metadata": {},
   "outputs": [],
   "source": []
  },
  {
   "cell_type": "code",
   "execution_count": null,
   "metadata": {},
   "outputs": [],
   "source": []
  }
 ],
 "metadata": {
  "kernelspec": {
   "display_name": "Python 3",
   "language": "python",
   "name": "python3"
  },
  "language_info": {
   "codemirror_mode": {
    "name": "ipython",
    "version": 3
   },
   "file_extension": ".py",
   "mimetype": "text/x-python",
   "name": "python",
   "nbconvert_exporter": "python",
   "pygments_lexer": "ipython3",
   "version": "3.7.1"
  }
 },
 "nbformat": 4,
 "nbformat_minor": 2
}
