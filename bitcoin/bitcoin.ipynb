{
 "cells": [
  {
   "cell_type": "code",
   "execution_count": 1,
   "metadata": {},
   "outputs": [],
   "source": [
    "import pandas as pd"
   ]
  },
  {
   "cell_type": "code",
   "execution_count": 2,
   "metadata": {},
   "outputs": [],
   "source": [
    "transactions = pd.read_csv(\"20180519-transactions.csv\", names=('date', 'number'))"
   ]
  },
  {
   "cell_type": "markdown",
   "metadata": {},
   "source": [
    "Sources:\n",
    "* https://blockchain.info/charts/n-transactions-per-block?showDataPoints=true"
   ]
  },
  {
   "cell_type": "code",
   "execution_count": 4,
   "metadata": {},
   "outputs": [],
   "source": [
    "#plt = transactions.plot()"
   ]
  },
  {
   "cell_type": "code",
   "execution_count": 10,
   "metadata": {},
   "outputs": [
    {
     "data": {
      "text/plain": [
       "144.0"
      ]
     },
     "execution_count": 10,
     "metadata": {},
     "output_type": "execute_result"
    }
   ],
   "source": [
    "blocks_day = (60/10) * 24\n",
    "blocks_day"
   ]
  },
  {
   "cell_type": "markdown",
   "metadata": {},
   "source": [
    "As the bitcoin protocol tries to converge to one block per 10 minutes there are about 144 blocks per day\n",
    "\n",
    "Sources:\n",
    "* https://en.bitcoin.it/wiki/Protocol_rules"
   ]
  },
  {
   "cell_type": "code",
   "execution_count": 5,
   "metadata": {},
   "outputs": [
    {
     "name": "stdout",
     "output_type": "stream",
     "text": [
      "There are about 1672.4470592245887 transaction per Block\n"
     ]
    }
   ],
   "source": [
    "mean_transactions_block = transactions.number.mean()\n",
    "print(\"There are about \" + str(mean_transactions_block) + \" transaction per Block\")"
   ]
  },
  {
   "cell_type": "code",
   "execution_count": null,
   "metadata": {},
   "outputs": [],
   "source": []
  },
  {
   "cell_type": "code",
   "execution_count": 14,
   "metadata": {},
   "outputs": [
    {
     "name": "stdout",
     "output_type": "stream",
     "text": [
      "This results in about 240832.37652834077 transactions per day\n"
     ]
    }
   ],
   "source": [
    "transactions_day = blocks_day * mean_transactions_block\n",
    "print(\"This results in about \" + str(transactions_day) + \" transactions per day\")"
   ]
  },
  {
   "cell_type": "code",
   "execution_count": 15,
   "metadata": {},
   "outputs": [
    {
     "data": {
      "text/plain": [
       "61.199999999999996"
      ]
     },
     "execution_count": 15,
     "metadata": {},
     "output_type": "execute_result"
    }
   ],
   "source": [
    "network_consumption_GW = 2.55\n",
    "network_consumtpion_GWh_day = network_consumption_GW * 24\n",
    "network_consumtpion_GWh_day"
   ]
  },
  {
   "cell_type": "markdown",
   "metadata": {},
   "source": [
    "According to de Vries, the lower bound estimate for the power consumption of the whole network is 2.55 GW\n",
    "\n",
    "Sources:\n",
    "* A. de Vries, \"Bitcoin's Growing Energy Problem\", Joule , Volume 2 , Issue 5 , 801 - 805, https://www.cell.com/joule/fulltext/S2542-4351%2818%2930177-6\n",
    "\n",
    "    \n",
    "    \n"
   ]
  },
  {
   "cell_type": "code",
   "execution_count": 16,
   "metadata": {},
   "outputs": [],
   "source": [
    "network_consumtpion_kWh_day = network_consumtpion_GWh_day * 1000 * 1000"
   ]
  },
  {
   "cell_type": "code",
   "execution_count": 17,
   "metadata": {},
   "outputs": [
    {
     "data": {
      "text/plain": [
       "254.1186566449801"
      ]
     },
     "execution_count": 17,
     "metadata": {},
     "output_type": "execute_result"
    }
   ],
   "source": [
    "consumption_transaction_kWh = network_consumtpion_kWh_day / transactions_day\n",
    "consumption_transaction_kWh"
   ]
  },
  {
   "cell_type": "markdown",
   "metadata": {},
   "source": []
  },
  {
   "cell_type": "markdown",
   "metadata": {},
   "source": [
    "## Validation\n",
    "\n",
    "How much would the network consume, if revenues would just break even with electricity prices.   \n",
    "We take the average US electricity price as a basis and the average earnings per day."
   ]
  },
  {
   "cell_type": "code",
   "execution_count": 9,
   "metadata": {},
   "outputs": [
    {
     "data": {
      "text/plain": [
       "15778962.177637711"
      ]
     },
     "execution_count": 9,
     "metadata": {},
     "output_type": "execute_result"
    }
   ],
   "source": [
    "revenue = pd.read_csv(\"miners-revenue.csv\", names=(\"date\", \"revenue\"))\n",
    "money_earned_per_day = revenue.revenue.mean()\n",
    "money_earned_per_day"
   ]
  },
  {
   "cell_type": "markdown",
   "metadata": {},
   "source": [
    "Sources:\n",
    "* https://bitinfocharts.com/bitcoin/\n",
    "* https://blockchain.info/de/charts/miners-revenue"
   ]
  },
  {
   "cell_type": "code",
   "execution_count": 79,
   "metadata": {},
   "outputs": [],
   "source": [
    "electricity_prices = pd.read_csv(\"electricity_prices.csv\", sep=\";\")\n",
    "electricity_price_kWh = electricity_prices[electricity_prices.Region == \"U.S. Total\"][\"All Sectors\"].mean() / 100"
   ]
  },
  {
   "cell_type": "markdown",
   "metadata": {},
   "source": [
    "Sources:\n",
    "* https://www.eia.gov/electricity/monthly/epm_table_grapher.php?t=epmt_5_6_a"
   ]
  },
  {
   "cell_type": "code",
   "execution_count": 81,
   "metadata": {},
   "outputs": [
    {
     "data": {
      "text/plain": [
       "150.85049883018843"
      ]
     },
     "execution_count": 81,
     "metadata": {},
     "output_type": "execute_result"
    }
   ],
   "source": [
    "GWh_day = (money_earned_per_day / electricity_price_kWh) / 1000 / 1000\n",
    "GWh_day"
   ]
  },
  {
   "cell_type": "code",
   "execution_count": 94,
   "metadata": {},
   "outputs": [
    {
     "data": {
      "text/plain": [
       "626.37134178027168"
      ]
     },
     "execution_count": 94,
     "metadata": {},
     "output_type": "execute_result"
    }
   ],
   "source": [
    "GWh_day * 1000 * 1000 / transactions_day"
   ]
  },
  {
   "cell_type": "markdown",
   "metadata": {},
   "source": [
    "What the papers says per transaction:"
   ]
  },
  {
   "cell_type": "code",
   "execution_count": 18,
   "metadata": {},
   "outputs": [
    {
     "name": "stdout",
     "output_type": "stream",
     "text": [
      "300\n"
     ]
    }
   ],
   "source": [
    "print(300)"
   ]
  },
  {
   "cell_type": "code",
   "execution_count": null,
   "metadata": {},
   "outputs": [],
   "source": []
  }
 ],
 "metadata": {
  "kernelspec": {
   "display_name": "Python 3",
   "language": "python",
   "name": "python3"
  },
  "language_info": {
   "codemirror_mode": {
    "name": "ipython",
    "version": 3
   },
   "file_extension": ".py",
   "mimetype": "text/x-python",
   "name": "python",
   "nbconvert_exporter": "python",
   "pygments_lexer": "ipython3",
   "version": "3.7.1"
  }
 },
 "nbformat": 4,
 "nbformat_minor": 2
}
